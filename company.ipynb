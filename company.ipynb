{
  "cells": [
    {
      "cell_type": "code",
      "execution_count": 1,
      "metadata": {
        "id": "zaczzoD8FeZB"
      },
      "outputs": [],
      "source": [
        "import pandas as pd\n",
        "import json"
      ]
    },
    {
      "cell_type": "code",
      "execution_count": 2,
      "metadata": {
        "colab": {
          "base_uri": "https://localhost:8080/"
        },
        "id": "B4EKiGMWGo5w",
        "outputId": "4e6f38f5-ec12-466f-9232-6ff6497e3990"
      },
      "outputs": [
        {
          "name": "stdout",
          "output_type": "stream",
          "text": [
            "sensor_records loaded with shape: (104342, 12)\n",
            "Index(['id', 'event_id', 'sensor_path', 'event_type', 'type_response',\n",
            "       'response', 'event_time', 'event_end_time', 'status', 'time_difference',\n",
            "       'created_at', 'updated_at'],\n",
            "      dtype='object')\n",
            "  id                   event_id  \\\n",
            "0  2       csceeojnbeba5ibdn6l0   \n",
            "1  3  cjps79k8kjgbg5o76kb035106   \n",
            "2  4  ck0qpmmdrp9mnli4p1hg97934   \n",
            "3  5  ck0qpmmdrp9mnli4p1hg97933   \n",
            "4  6  ck0qpmmdrp9mnli4p1hg97932   \n",
            "\n",
            "                                         sensor_path     event_type  \\\n",
            "0  projects/cj8a2tg9vdcso5oq16sg/devices/cflm0lkp...  batteryStatus   \n",
            "1  projects/cj8a2tg9vdcso5oq16sg/devices/cflm0lkp...          touch   \n",
            "2  projects/cj8a2tg9vdcso5oq16sg/devices/cflmjoh7...  objectPresent   \n",
            "3  projects/cj8a2tg9vdcso5oq16sg/devices/cflmjoh7...  objectPresent   \n",
            "4  projects/cj8a2tg9vdcso5oq16sg/devices/cflmjoh7...  objectPresent   \n",
            "\n",
            "                                       type_response  \\\n",
            "0  {\"percentage\":100,\"updateTime\":\"2024-10-23T12:...   \n",
            "1       {\"updateTime\":\"2024-10-22T14:19:48.366000Z\"}   \n",
            "2  {\"state\":\"PRESENT\",\"updateTime\":\"2024-10-23T12...   \n",
            "3  {\"state\":\"NOT_PRESENT\",\"updateTime\":\"2024-10-2...   \n",
            "4  {\"state\":\"PRESENT\",\"updateTime\":\"2024-10-23T12...   \n",
            "\n",
            "                                            response           event_time  \\\n",
            "0  {\"eventId\":\"csceeojnbeba5ibdn6l0\",\"targetName\"...  2024-10-23 12:09:05   \n",
            "1  {\"eventId\":\"cjps79k8kjgbg5o76kb035106\",\"target...  2024-10-22 14:19:48   \n",
            "2  {\"eventId\":\"ck0qpmmdrp9mnli4p1hg97934\",\"target...  2024-10-23 12:41:53   \n",
            "3  {\"eventId\":\"ck0qpmmdrp9mnli4p1hg97933\",\"target...  2024-10-23 12:41:46   \n",
            "4  {\"eventId\":\"ck0qpmmdrp9mnli4p1hg97932\",\"target...  2024-10-23 12:41:07   \n",
            "\n",
            "  event_end_time status time_difference           created_at  \\\n",
            "0           None      0            None  2024-10-23 16:17:28   \n",
            "1           None      0            None  2024-10-23 16:17:28   \n",
            "2           None      0            None  2024-10-23 16:17:28   \n",
            "3           None      0            None  2024-10-23 16:17:28   \n",
            "4           None      0            None  2024-10-23 16:17:28   \n",
            "\n",
            "            updated_at  \n",
            "0  2024-10-24 18:30:06  \n",
            "1  2024-10-24 18:30:06  \n",
            "2  2024-10-24 18:30:06  \n",
            "3  2024-10-24 18:30:06  \n",
            "4  2024-10-24 18:30:06  \n"
          ]
        }
      ],
      "source": [
        "file_path = r\"sensor_records (1).json\"\n",
        "\n",
        "with open(file_path, \"r\") as f:\n",
        "    raw_data = json.load(f)\n",
        "    df_raw = pd.DataFrame(raw_data)\n",
        "\n",
        "sensor_row = df_raw[(df_raw['type'] == 'table') & (df_raw['name'] == 'sensor_records')]\n",
        "\n",
        "sensor_data = sensor_row.iloc[0]['data']\n",
        "\n",
        "df_records = pd.DataFrame(sensor_data)\n",
        "\n",
        "print(\"sensor_records loaded with shape:\", df_records.shape)\n",
        "print(df_records.columns)\n",
        "print(df_records.head())\n"
      ]
    },
    {
      "cell_type": "code",
      "execution_count": 3,
      "metadata": {
        "colab": {
          "base_uri": "https://localhost:8080/"
        },
        "id": "1TLkyL6QYBUV",
        "outputId": "8484e485-d8be-4888-dc54-81f2f39ba035"
      },
      "outputs": [
        {
          "name": "stdout",
          "output_type": "stream",
          "text": [
            "sensors loaded with shape: (104342, 12)\n",
            "Index(['id', 'building_id', 'sub_building_id', 'floor_id', 'room_id', 'title',\n",
            "       'parent', 'type', 'path', 'battery_status', 'network_status',\n",
            "       'connection_status', 'response', 'time', 'event_alert', 'color',\n",
            "       'current_count', 'occupancy_level', 'auto_reset', 'reminder_duration',\n",
            "       'reminder_status', 'status', 'deleted_at', 'created_at', 'updated_at',\n",
            "       'is_email', 'email_alert'],\n",
            "      dtype='object')\n",
            "  id building_id sub_building_id floor_id room_id  \\\n",
            "0  1           1               2        5       2   \n",
            "1  2           1               2        5       2   \n",
            "2  3           1               2        6       5   \n",
            "3  4           1               2        5       7   \n",
            "4  5           1               2        6       6   \n",
            "\n",
            "                              title  parent       type  \\\n",
            "0  2000 GF Gents check in/out(lost)      []      touch   \n",
            "1        2000 GF Gents (s corridor)  [\"16\"]  proximity   \n",
            "2                     2000 FF Gents  [\"15\"]  proximity   \n",
            "3       2000 GF Ladies (s corridor)  [\"17\"]  proximity   \n",
            "4                    2000 FF Ladies  [\"22\"]  proximity   \n",
            "\n",
            "                                                path battery_status  ...  \\\n",
            "0  projects/cj8a2tg9vdcso5oq16sg/devices/cflm0lkp...            100  ...   \n",
            "1  projects/cj8a2tg9vdcso5oq16sg/devices/cflmjoh7...            100  ...   \n",
            "2  projects/cj8a2tg9vdcso5oq16sg/devices/cflmjv4p...            100  ...   \n",
            "3  projects/cj8a2tg9vdcso5oq16sg/devices/cflmjv4p...            100  ...   \n",
            "4  projects/cj8a2tg9vdcso5oq16sg/devices/cflmjv4p...            100  ...   \n",
            "\n",
            "  occupancy_level auto_reset reminder_duration reminder_status status  \\\n",
            "0               6          0              None               0      0   \n",
            "1             225          0              None               0      1   \n",
            "2             550          0              None               0      1   \n",
            "3             200          0              None               0      1   \n",
            "4             750          0              None               0      1   \n",
            "\n",
            "  deleted_at           created_at           updated_at is_email email_alert  \n",
            "0       None  2024-10-23 16:17:27  2025-06-24 20:05:55        0           0  \n",
            "1       None  2024-10-23 16:17:28  2025-07-03 15:51:23        0           1  \n",
            "2       None  2024-10-23 16:17:30  2025-07-03 15:58:32        0           1  \n",
            "3       None  2024-10-23 16:17:33  2025-07-03 15:58:48        0           1  \n",
            "4       None  2024-10-23 16:17:35  2025-07-03 15:58:14        0           1  \n",
            "\n",
            "[5 rows x 27 columns]\n"
          ]
        }
      ],
      "source": [
        "file_path = \"sensors.json\"\n",
        "\n",
        "# Step 2: Load raw JSON\n",
        "with open(file_path, \"r\", encoding=\"utf-8\") as f:\n",
        "    raw_data = json.load(f)\n",
        "\n",
        "df_raw = pd.DataFrame(raw_data)\n",
        "\n",
        "sensor_row = df_raw[(df_raw['type'] == 'table') & (df_raw['name'] == 'sensors')]\n",
        "\n",
        "sensor_data = sensor_row.iloc[0]['data']\n",
        "\n",
        "df_record = pd.DataFrame(sensor_data)\n",
        "\n",
        "print(\"sensors loaded with shape:\", df_records.shape)\n",
        "print(df_record.columns)\n",
        "print(df_record.head())"
      ]
    },
    {
      "cell_type": "code",
      "execution_count": 4,
      "metadata": {
        "id": "W03BoYa5G3ME"
      },
      "outputs": [],
      "source": [
        "df1=df_records"
      ]
    },
    {
      "cell_type": "code",
      "execution_count": 5,
      "metadata": {
        "colab": {
          "base_uri": "https://localhost:8080/",
          "height": 460
        },
        "id": "EFxeiDKCWu1p",
        "outputId": "f34d2eb7-49a2-44df-fa50-b0483b1e008c"
      },
      "outputs": [
        {
          "data": {
            "text/plain": [
              "id                      0\n",
              "event_id                0\n",
              "sensor_path             0\n",
              "event_type              0\n",
              "type_response           0\n",
              "response                0\n",
              "event_time              0\n",
              "event_end_time     104342\n",
              "status                  0\n",
              "time_difference    104103\n",
              "created_at              0\n",
              "updated_at              0\n",
              "dtype: int64"
            ]
          },
          "execution_count": 5,
          "metadata": {},
          "output_type": "execute_result"
        }
      ],
      "source": [
        "df1.isnull().sum()"
      ]
    },
    {
      "cell_type": "code",
      "execution_count": 6,
      "metadata": {
        "id": "3AjAd20SXv6U"
      },
      "outputs": [],
      "source": [
        "df2=df_record"
      ]
    },
    {
      "cell_type": "code",
      "execution_count": 7,
      "metadata": {
        "colab": {
          "base_uri": "https://localhost:8080/",
          "height": 167
        },
        "id": "Qv208iatYQ_h",
        "outputId": "c6d32cf2-ffae-4e0d-b464-24b304a018ea"
      },
      "outputs": [
        {
          "data": {
            "text/html": [
              "<div>\n",
              "<style scoped>\n",
              "    .dataframe tbody tr th:only-of-type {\n",
              "        vertical-align: middle;\n",
              "    }\n",
              "\n",
              "    .dataframe tbody tr th {\n",
              "        vertical-align: top;\n",
              "    }\n",
              "\n",
              "    .dataframe thead th {\n",
              "        text-align: right;\n",
              "    }\n",
              "</style>\n",
              "<table border=\"1\" class=\"dataframe\">\n",
              "  <thead>\n",
              "    <tr style=\"text-align: right;\">\n",
              "      <th></th>\n",
              "      <th>id</th>\n",
              "      <th>event_id</th>\n",
              "      <th>sensor_path</th>\n",
              "      <th>event_type</th>\n",
              "      <th>type_response</th>\n",
              "      <th>response</th>\n",
              "      <th>event_time</th>\n",
              "      <th>event_end_time</th>\n",
              "      <th>status</th>\n",
              "      <th>time_difference</th>\n",
              "      <th>created_at</th>\n",
              "      <th>updated_at</th>\n",
              "    </tr>\n",
              "  </thead>\n",
              "  <tbody>\n",
              "    <tr>\n",
              "      <th>0</th>\n",
              "      <td>2</td>\n",
              "      <td>csceeojnbeba5ibdn6l0</td>\n",
              "      <td>projects/cj8a2tg9vdcso5oq16sg/devices/cflm0lkp...</td>\n",
              "      <td>batteryStatus</td>\n",
              "      <td>{\"percentage\":100,\"updateTime\":\"2024-10-23T12:...</td>\n",
              "      <td>{\"eventId\":\"csceeojnbeba5ibdn6l0\",\"targetName\"...</td>\n",
              "      <td>2024-10-23 12:09:05</td>\n",
              "      <td>None</td>\n",
              "      <td>0</td>\n",
              "      <td>None</td>\n",
              "      <td>2024-10-23 16:17:28</td>\n",
              "      <td>2024-10-24 18:30:06</td>\n",
              "    </tr>\n",
              "    <tr>\n",
              "      <th>1</th>\n",
              "      <td>3</td>\n",
              "      <td>cjps79k8kjgbg5o76kb035106</td>\n",
              "      <td>projects/cj8a2tg9vdcso5oq16sg/devices/cflm0lkp...</td>\n",
              "      <td>touch</td>\n",
              "      <td>{\"updateTime\":\"2024-10-22T14:19:48.366000Z\"}</td>\n",
              "      <td>{\"eventId\":\"cjps79k8kjgbg5o76kb035106\",\"target...</td>\n",
              "      <td>2024-10-22 14:19:48</td>\n",
              "      <td>None</td>\n",
              "      <td>0</td>\n",
              "      <td>None</td>\n",
              "      <td>2024-10-23 16:17:28</td>\n",
              "      <td>2024-10-24 18:30:06</td>\n",
              "    </tr>\n",
              "  </tbody>\n",
              "</table>\n",
              "</div>"
            ],
            "text/plain": [
              "  id                   event_id  \\\n",
              "0  2       csceeojnbeba5ibdn6l0   \n",
              "1  3  cjps79k8kjgbg5o76kb035106   \n",
              "\n",
              "                                         sensor_path     event_type  \\\n",
              "0  projects/cj8a2tg9vdcso5oq16sg/devices/cflm0lkp...  batteryStatus   \n",
              "1  projects/cj8a2tg9vdcso5oq16sg/devices/cflm0lkp...          touch   \n",
              "\n",
              "                                       type_response  \\\n",
              "0  {\"percentage\":100,\"updateTime\":\"2024-10-23T12:...   \n",
              "1       {\"updateTime\":\"2024-10-22T14:19:48.366000Z\"}   \n",
              "\n",
              "                                            response           event_time  \\\n",
              "0  {\"eventId\":\"csceeojnbeba5ibdn6l0\",\"targetName\"...  2024-10-23 12:09:05   \n",
              "1  {\"eventId\":\"cjps79k8kjgbg5o76kb035106\",\"target...  2024-10-22 14:19:48   \n",
              "\n",
              "  event_end_time status time_difference           created_at  \\\n",
              "0           None      0            None  2024-10-23 16:17:28   \n",
              "1           None      0            None  2024-10-23 16:17:28   \n",
              "\n",
              "            updated_at  \n",
              "0  2024-10-24 18:30:06  \n",
              "1  2024-10-24 18:30:06  "
            ]
          },
          "execution_count": 7,
          "metadata": {},
          "output_type": "execute_result"
        }
      ],
      "source": [
        "df1.head(2)"
      ]
    },
    {
      "cell_type": "code",
      "execution_count": 8,
      "metadata": {
        "colab": {
          "base_uri": "https://localhost:8080/",
          "height": 248
        },
        "id": "ITCo9h9nX2a-",
        "outputId": "562760c6-3991-441c-d521-59bd0eff9da4"
      },
      "outputs": [
        {
          "data": {
            "text/html": [
              "<div>\n",
              "<style scoped>\n",
              "    .dataframe tbody tr th:only-of-type {\n",
              "        vertical-align: middle;\n",
              "    }\n",
              "\n",
              "    .dataframe tbody tr th {\n",
              "        vertical-align: top;\n",
              "    }\n",
              "\n",
              "    .dataframe thead th {\n",
              "        text-align: right;\n",
              "    }\n",
              "</style>\n",
              "<table border=\"1\" class=\"dataframe\">\n",
              "  <thead>\n",
              "    <tr style=\"text-align: right;\">\n",
              "      <th></th>\n",
              "      <th>id</th>\n",
              "      <th>building_id</th>\n",
              "      <th>sub_building_id</th>\n",
              "      <th>floor_id</th>\n",
              "      <th>room_id</th>\n",
              "      <th>title</th>\n",
              "      <th>parent</th>\n",
              "      <th>type</th>\n",
              "      <th>path</th>\n",
              "      <th>battery_status</th>\n",
              "      <th>...</th>\n",
              "      <th>occupancy_level</th>\n",
              "      <th>auto_reset</th>\n",
              "      <th>reminder_duration</th>\n",
              "      <th>reminder_status</th>\n",
              "      <th>status</th>\n",
              "      <th>deleted_at</th>\n",
              "      <th>created_at</th>\n",
              "      <th>updated_at</th>\n",
              "      <th>is_email</th>\n",
              "      <th>email_alert</th>\n",
              "    </tr>\n",
              "  </thead>\n",
              "  <tbody>\n",
              "    <tr>\n",
              "      <th>0</th>\n",
              "      <td>1</td>\n",
              "      <td>1</td>\n",
              "      <td>2</td>\n",
              "      <td>5</td>\n",
              "      <td>2</td>\n",
              "      <td>2000 GF Gents check in/out(lost)</td>\n",
              "      <td>[]</td>\n",
              "      <td>touch</td>\n",
              "      <td>projects/cj8a2tg9vdcso5oq16sg/devices/cflm0lkp...</td>\n",
              "      <td>100</td>\n",
              "      <td>...</td>\n",
              "      <td>6</td>\n",
              "      <td>0</td>\n",
              "      <td>None</td>\n",
              "      <td>0</td>\n",
              "      <td>0</td>\n",
              "      <td>None</td>\n",
              "      <td>2024-10-23 16:17:27</td>\n",
              "      <td>2025-06-24 20:05:55</td>\n",
              "      <td>0</td>\n",
              "      <td>0</td>\n",
              "    </tr>\n",
              "    <tr>\n",
              "      <th>1</th>\n",
              "      <td>2</td>\n",
              "      <td>1</td>\n",
              "      <td>2</td>\n",
              "      <td>5</td>\n",
              "      <td>2</td>\n",
              "      <td>2000 GF Gents (s corridor)</td>\n",
              "      <td>[\"16\"]</td>\n",
              "      <td>proximity</td>\n",
              "      <td>projects/cj8a2tg9vdcso5oq16sg/devices/cflmjoh7...</td>\n",
              "      <td>100</td>\n",
              "      <td>...</td>\n",
              "      <td>225</td>\n",
              "      <td>0</td>\n",
              "      <td>None</td>\n",
              "      <td>0</td>\n",
              "      <td>1</td>\n",
              "      <td>None</td>\n",
              "      <td>2024-10-23 16:17:28</td>\n",
              "      <td>2025-07-03 15:51:23</td>\n",
              "      <td>0</td>\n",
              "      <td>1</td>\n",
              "    </tr>\n",
              "  </tbody>\n",
              "</table>\n",
              "<p>2 rows × 27 columns</p>\n",
              "</div>"
            ],
            "text/plain": [
              "  id building_id sub_building_id floor_id room_id  \\\n",
              "0  1           1               2        5       2   \n",
              "1  2           1               2        5       2   \n",
              "\n",
              "                              title  parent       type  \\\n",
              "0  2000 GF Gents check in/out(lost)      []      touch   \n",
              "1        2000 GF Gents (s corridor)  [\"16\"]  proximity   \n",
              "\n",
              "                                                path battery_status  ...  \\\n",
              "0  projects/cj8a2tg9vdcso5oq16sg/devices/cflm0lkp...            100  ...   \n",
              "1  projects/cj8a2tg9vdcso5oq16sg/devices/cflmjoh7...            100  ...   \n",
              "\n",
              "  occupancy_level auto_reset reminder_duration reminder_status status  \\\n",
              "0               6          0              None               0      0   \n",
              "1             225          0              None               0      1   \n",
              "\n",
              "  deleted_at           created_at           updated_at is_email email_alert  \n",
              "0       None  2024-10-23 16:17:27  2025-06-24 20:05:55        0           0  \n",
              "1       None  2024-10-23 16:17:28  2025-07-03 15:51:23        0           1  \n",
              "\n",
              "[2 rows x 27 columns]"
            ]
          },
          "execution_count": 8,
          "metadata": {},
          "output_type": "execute_result"
        }
      ],
      "source": [
        "df2.head(2)"
      ]
    },
    {
      "cell_type": "code",
      "execution_count": 9,
      "metadata": {
        "colab": {
          "base_uri": "https://localhost:8080/"
        },
        "id": "XiAuxYjkX5mV",
        "outputId": "e23c5837-ff2d-46d7-abaf-842e5e376e0f"
      },
      "outputs": [
        {
          "name": "stdout",
          "output_type": "stream",
          "text": [
            "Index(['id', 'event_id', 'sensor_path', 'event_type', 'type_response',\n",
            "       'response', 'event_time', 'event_end_time', 'status', 'time_difference',\n",
            "       'created_at', 'updated_at'],\n",
            "      dtype='object')\n",
            "(104342, 12)\n"
          ]
        }
      ],
      "source": [
        "print(df1.columns)\n",
        "print(df1.shape)"
      ]
    },
    {
      "cell_type": "code",
      "execution_count": 10,
      "metadata": {
        "colab": {
          "base_uri": "https://localhost:8080/"
        },
        "id": "irzdcsHLY5DV",
        "outputId": "f01ed138-2ff0-4a66-beb2-5e8eeb6936bf"
      },
      "outputs": [
        {
          "name": "stdout",
          "output_type": "stream",
          "text": [
            "Index(['id', 'building_id', 'sub_building_id', 'floor_id', 'room_id', 'title',\n",
            "       'parent', 'type', 'path', 'battery_status', 'network_status',\n",
            "       'connection_status', 'response', 'time', 'event_alert', 'color',\n",
            "       'current_count', 'occupancy_level', 'auto_reset', 'reminder_duration',\n",
            "       'reminder_status', 'status', 'deleted_at', 'created_at', 'updated_at',\n",
            "       'is_email', 'email_alert'],\n",
            "      dtype='object')\n",
            "(49, 27)\n"
          ]
        }
      ],
      "source": [
        "print(df2.columns)\n",
        "print(df2.shape)"
      ]
    },
    {
      "cell_type": "code",
      "execution_count": 11,
      "metadata": {
        "id": "sPr5GMByglg2"
      },
      "outputs": [],
      "source": [
        "df_merged = pd.merge(\n",
        "    df1,\n",
        "    df2,\n",
        "    left_on='sensor_path',\n",
        "    right_on='path',\n",
        "    how='left'\n",
        ")\n",
        "\n"
      ]
    },
    {
      "cell_type": "code",
      "execution_count": 12,
      "metadata": {
        "colab": {
          "base_uri": "https://localhost:8080/"
        },
        "id": "nu_VW_vl02E7",
        "outputId": "cf505017-a028-4b0f-bc92-2a7418491ebb"
      },
      "outputs": [
        {
          "name": "stdout",
          "output_type": "stream",
          "text": [
            "Index(['id_x', 'event_id', 'sensor_path', 'event_type', 'type_response',\n",
            "       'response_x', 'event_time', 'event_end_time', 'status_x',\n",
            "       'time_difference', 'created_at_x', 'updated_at_x', 'id_y',\n",
            "       'building_id', 'sub_building_id', 'floor_id', 'room_id', 'title',\n",
            "       'parent', 'type', 'path', 'battery_status', 'network_status',\n",
            "       'connection_status', 'response_y', 'time', 'event_alert', 'color',\n",
            "       'current_count', 'occupancy_level', 'auto_reset', 'reminder_duration',\n",
            "       'reminder_status', 'status_y', 'deleted_at', 'created_at_y',\n",
            "       'updated_at_y', 'is_email', 'email_alert'],\n",
            "      dtype='object')\n",
            "  id_x                   event_id  \\\n",
            "0    2       csceeojnbeba5ibdn6l0   \n",
            "1    3  cjps79k8kjgbg5o76kb035106   \n",
            "2    4  ck0qpmmdrp9mnli4p1hg97934   \n",
            "3    5  ck0qpmmdrp9mnli4p1hg97933   \n",
            "4    6  ck0qpmmdrp9mnli4p1hg97932   \n",
            "\n",
            "                                         sensor_path     event_type  \\\n",
            "0  projects/cj8a2tg9vdcso5oq16sg/devices/cflm0lkp...  batteryStatus   \n",
            "1  projects/cj8a2tg9vdcso5oq16sg/devices/cflm0lkp...          touch   \n",
            "2  projects/cj8a2tg9vdcso5oq16sg/devices/cflmjoh7...  objectPresent   \n",
            "3  projects/cj8a2tg9vdcso5oq16sg/devices/cflmjoh7...  objectPresent   \n",
            "4  projects/cj8a2tg9vdcso5oq16sg/devices/cflmjoh7...  objectPresent   \n",
            "\n",
            "                                       type_response  \\\n",
            "0  {\"percentage\":100,\"updateTime\":\"2024-10-23T12:...   \n",
            "1       {\"updateTime\":\"2024-10-22T14:19:48.366000Z\"}   \n",
            "2  {\"state\":\"PRESENT\",\"updateTime\":\"2024-10-23T12...   \n",
            "3  {\"state\":\"NOT_PRESENT\",\"updateTime\":\"2024-10-2...   \n",
            "4  {\"state\":\"PRESENT\",\"updateTime\":\"2024-10-23T12...   \n",
            "\n",
            "                                          response_x           event_time  \\\n",
            "0  {\"eventId\":\"csceeojnbeba5ibdn6l0\",\"targetName\"...  2024-10-23 12:09:05   \n",
            "1  {\"eventId\":\"cjps79k8kjgbg5o76kb035106\",\"target...  2024-10-22 14:19:48   \n",
            "2  {\"eventId\":\"ck0qpmmdrp9mnli4p1hg97934\",\"target...  2024-10-23 12:41:53   \n",
            "3  {\"eventId\":\"ck0qpmmdrp9mnli4p1hg97933\",\"target...  2024-10-23 12:41:46   \n",
            "4  {\"eventId\":\"ck0qpmmdrp9mnli4p1hg97932\",\"target...  2024-10-23 12:41:07   \n",
            "\n",
            "  event_end_time status_x time_difference  ... occupancy_level auto_reset  \\\n",
            "0           None        0            None  ...               6          0   \n",
            "1           None        0            None  ...               6          0   \n",
            "2           None        0            None  ...             225          0   \n",
            "3           None        0            None  ...             225          0   \n",
            "4           None        0            None  ...             225          0   \n",
            "\n",
            "  reminder_duration reminder_status status_y deleted_at         created_at_y  \\\n",
            "0              None               0        0       None  2024-10-23 16:17:27   \n",
            "1              None               0        0       None  2024-10-23 16:17:27   \n",
            "2              None               0        1       None  2024-10-23 16:17:28   \n",
            "3              None               0        1       None  2024-10-23 16:17:28   \n",
            "4              None               0        1       None  2024-10-23 16:17:28   \n",
            "\n",
            "          updated_at_y is_email email_alert  \n",
            "0  2025-06-24 20:05:55        0           0  \n",
            "1  2025-06-24 20:05:55        0           0  \n",
            "2  2025-07-03 15:51:23        0           1  \n",
            "3  2025-07-03 15:51:23        0           1  \n",
            "4  2025-07-03 15:51:23        0           1  \n",
            "\n",
            "[5 rows x 39 columns]\n",
            "<class 'pandas.core.frame.DataFrame'>\n",
            "RangeIndex: 104342 entries, 0 to 104341\n",
            "Data columns (total 39 columns):\n",
            " #   Column             Non-Null Count   Dtype \n",
            "---  ------             --------------   ----- \n",
            " 0   id_x               104342 non-null  object\n",
            " 1   event_id           104342 non-null  object\n",
            " 2   sensor_path        104342 non-null  object\n",
            " 3   event_type         104342 non-null  object\n",
            " 4   type_response      104342 non-null  object\n",
            " 5   response_x         104342 non-null  object\n",
            " 6   event_time         104342 non-null  object\n",
            " 7   event_end_time     0 non-null       object\n",
            " 8   status_x           104342 non-null  object\n",
            " 9   time_difference    239 non-null     object\n",
            " 10  created_at_x       104342 non-null  object\n",
            " 11  updated_at_x       104342 non-null  object\n",
            " 12  id_y               104342 non-null  object\n",
            " 13  building_id        104333 non-null  object\n",
            " 14  sub_building_id    97945 non-null   object\n",
            " 15  floor_id           97945 non-null   object\n",
            " 16  room_id            98010 non-null   object\n",
            " 17  title              104342 non-null  object\n",
            " 18  parent             104342 non-null  object\n",
            " 19  type               104342 non-null  object\n",
            " 20  path               104342 non-null  object\n",
            " 21  battery_status     98041 non-null   object\n",
            " 22  network_status     98041 non-null   object\n",
            " 23  connection_status  104342 non-null  object\n",
            " 24  response_y         104342 non-null  object\n",
            " 25  time               104342 non-null  object\n",
            " 26  event_alert        104342 non-null  object\n",
            " 27  color              104342 non-null  object\n",
            " 28  current_count      104342 non-null  object\n",
            " 29  occupancy_level    104342 non-null  object\n",
            " 30  auto_reset         104342 non-null  object\n",
            " 31  reminder_duration  45 non-null      object\n",
            " 32  reminder_status    104342 non-null  object\n",
            " 33  status_y           104342 non-null  object\n",
            " 34  deleted_at         0 non-null       object\n",
            " 35  created_at_y       104342 non-null  object\n",
            " 36  updated_at_y       104342 non-null  object\n",
            " 37  is_email           104342 non-null  object\n",
            " 38  email_alert        104342 non-null  object\n",
            "dtypes: object(39)\n",
            "memory usage: 31.0+ MB\n",
            "None\n"
          ]
        }
      ],
      "source": [
        "print(df_merged.columns)\n",
        "print(df_merged.head())\n",
        "print(df_merged.info())\n"
      ]
    },
    {
      "cell_type": "code",
      "execution_count": 13,
      "metadata": {
        "id": "yvKKYq-B2LgS"
      },
      "outputs": [],
      "source": [
        "df_merged['event_time'] = pd.to_datetime(df_merged['event_time'])\n"
      ]
    },
    {
      "cell_type": "code",
      "execution_count": 14,
      "metadata": {
        "colab": {
          "base_uri": "https://localhost:8080/",
          "height": 458
        },
        "id": "WgkdleNZr77O",
        "outputId": "9994e91d-fa2e-437b-da26-dec9fe66ea9b"
      },
      "outputs": [
        {
          "data": {
            "text/plain": [
              "0        2024-10-23 12:09:05\n",
              "1        2024-10-22 14:19:48\n",
              "2        2024-10-23 12:41:53\n",
              "3        2024-10-23 12:41:46\n",
              "4        2024-10-23 12:41:07\n",
              "                 ...        \n",
              "104337   2024-12-20 11:59:43\n",
              "104338   2024-12-20 11:59:46\n",
              "104339   2024-12-20 11:59:56\n",
              "104340   2024-12-20 12:00:00\n",
              "104341   2024-12-20 12:00:01\n",
              "Name: event_time, Length: 104342, dtype: datetime64[ns]"
            ]
          },
          "execution_count": 14,
          "metadata": {},
          "output_type": "execute_result"
        }
      ],
      "source": [
        "df_merged['event_time']"
      ]
    },
    {
      "cell_type": "code",
      "execution_count": 15,
      "metadata": {
        "colab": {
          "base_uri": "https://localhost:8080/"
        },
        "id": "scX1TlrX2Th7",
        "outputId": "e3987470-b8c6-4081-8198-48f61dd066ec"
      },
      "outputs": [
        {
          "name": "stdout",
          "output_type": "stream",
          "text": [
            "           event_time  occupancy\n",
            "0 2024-10-22 12:00:00         12\n",
            "1 2024-10-22 13:00:00        104\n",
            "2 2024-10-22 14:00:00        204\n",
            "3 2024-10-22 15:00:00        252\n",
            "4 2024-10-22 16:00:00        100\n"
          ]
        }
      ],
      "source": [
        "# Set 'event_time' as the index\n",
        "df_merged = df_merged.set_index('event_time')\n",
        "\n",
        "# Group by hour\n",
        "df_occupancy = df_merged.resample('h').size().reset_index(name='occupancy')\n",
        "\n",
        "print(df_occupancy.head())"
      ]
    },
    {
      "cell_type": "code",
      "execution_count": 16,
      "metadata": {
        "id": "eOFXC_Y22W42"
      },
      "outputs": [],
      "source": [
        "df_occupancy['hour'] = df_occupancy['event_time'].dt.hour\n",
        "df_occupancy['day_of_week'] = df_occupancy['event_time'].dt.dayofweek\n",
        "df_occupancy['day'] = df_occupancy['event_time'].dt.day\n",
        "df_occupancy['month'] = df_occupancy['event_time'].dt.month\n"
      ]
    },
    {
      "cell_type": "code",
      "execution_count": 17,
      "metadata": {
        "colab": {
          "base_uri": "https://localhost:8080/",
          "height": 423
        },
        "id": "60vVNHa8yJF7",
        "outputId": "0657bd7d-3a7d-47c4-f1be-cb65b24a7ac3"
      },
      "outputs": [
        {
          "data": {
            "text/html": [
              "<div>\n",
              "<style scoped>\n",
              "    .dataframe tbody tr th:only-of-type {\n",
              "        vertical-align: middle;\n",
              "    }\n",
              "\n",
              "    .dataframe tbody tr th {\n",
              "        vertical-align: top;\n",
              "    }\n",
              "\n",
              "    .dataframe thead th {\n",
              "        text-align: right;\n",
              "    }\n",
              "</style>\n",
              "<table border=\"1\" class=\"dataframe\">\n",
              "  <thead>\n",
              "    <tr style=\"text-align: right;\">\n",
              "      <th></th>\n",
              "      <th>event_time</th>\n",
              "      <th>occupancy</th>\n",
              "      <th>hour</th>\n",
              "      <th>day_of_week</th>\n",
              "      <th>day</th>\n",
              "      <th>month</th>\n",
              "    </tr>\n",
              "  </thead>\n",
              "  <tbody>\n",
              "    <tr>\n",
              "      <th>0</th>\n",
              "      <td>2024-10-22 12:00:00</td>\n",
              "      <td>12</td>\n",
              "      <td>12</td>\n",
              "      <td>1</td>\n",
              "      <td>22</td>\n",
              "      <td>10</td>\n",
              "    </tr>\n",
              "    <tr>\n",
              "      <th>1</th>\n",
              "      <td>2024-10-22 13:00:00</td>\n",
              "      <td>104</td>\n",
              "      <td>13</td>\n",
              "      <td>1</td>\n",
              "      <td>22</td>\n",
              "      <td>10</td>\n",
              "    </tr>\n",
              "    <tr>\n",
              "      <th>2</th>\n",
              "      <td>2024-10-22 14:00:00</td>\n",
              "      <td>204</td>\n",
              "      <td>14</td>\n",
              "      <td>1</td>\n",
              "      <td>22</td>\n",
              "      <td>10</td>\n",
              "    </tr>\n",
              "    <tr>\n",
              "      <th>3</th>\n",
              "      <td>2024-10-22 15:00:00</td>\n",
              "      <td>252</td>\n",
              "      <td>15</td>\n",
              "      <td>1</td>\n",
              "      <td>22</td>\n",
              "      <td>10</td>\n",
              "    </tr>\n",
              "    <tr>\n",
              "      <th>4</th>\n",
              "      <td>2024-10-22 16:00:00</td>\n",
              "      <td>100</td>\n",
              "      <td>16</td>\n",
              "      <td>1</td>\n",
              "      <td>22</td>\n",
              "      <td>10</td>\n",
              "    </tr>\n",
              "    <tr>\n",
              "      <th>...</th>\n",
              "      <td>...</td>\n",
              "      <td>...</td>\n",
              "      <td>...</td>\n",
              "      <td>...</td>\n",
              "      <td>...</td>\n",
              "      <td>...</td>\n",
              "    </tr>\n",
              "    <tr>\n",
              "      <th>1412</th>\n",
              "      <td>2024-12-20 08:00:00</td>\n",
              "      <td>119</td>\n",
              "      <td>8</td>\n",
              "      <td>4</td>\n",
              "      <td>20</td>\n",
              "      <td>12</td>\n",
              "    </tr>\n",
              "    <tr>\n",
              "      <th>1413</th>\n",
              "      <td>2024-12-20 09:00:00</td>\n",
              "      <td>177</td>\n",
              "      <td>9</td>\n",
              "      <td>4</td>\n",
              "      <td>20</td>\n",
              "      <td>12</td>\n",
              "    </tr>\n",
              "    <tr>\n",
              "      <th>1414</th>\n",
              "      <td>2024-12-20 10:00:00</td>\n",
              "      <td>248</td>\n",
              "      <td>10</td>\n",
              "      <td>4</td>\n",
              "      <td>20</td>\n",
              "      <td>12</td>\n",
              "    </tr>\n",
              "    <tr>\n",
              "      <th>1415</th>\n",
              "      <td>2024-12-20 11:00:00</td>\n",
              "      <td>297</td>\n",
              "      <td>11</td>\n",
              "      <td>4</td>\n",
              "      <td>20</td>\n",
              "      <td>12</td>\n",
              "    </tr>\n",
              "    <tr>\n",
              "      <th>1416</th>\n",
              "      <td>2024-12-20 12:00:00</td>\n",
              "      <td>2</td>\n",
              "      <td>12</td>\n",
              "      <td>4</td>\n",
              "      <td>20</td>\n",
              "      <td>12</td>\n",
              "    </tr>\n",
              "  </tbody>\n",
              "</table>\n",
              "<p>1417 rows × 6 columns</p>\n",
              "</div>"
            ],
            "text/plain": [
              "              event_time  occupancy  hour  day_of_week  day  month\n",
              "0    2024-10-22 12:00:00         12    12            1   22     10\n",
              "1    2024-10-22 13:00:00        104    13            1   22     10\n",
              "2    2024-10-22 14:00:00        204    14            1   22     10\n",
              "3    2024-10-22 15:00:00        252    15            1   22     10\n",
              "4    2024-10-22 16:00:00        100    16            1   22     10\n",
              "...                  ...        ...   ...          ...  ...    ...\n",
              "1412 2024-12-20 08:00:00        119     8            4   20     12\n",
              "1413 2024-12-20 09:00:00        177     9            4   20     12\n",
              "1414 2024-12-20 10:00:00        248    10            4   20     12\n",
              "1415 2024-12-20 11:00:00        297    11            4   20     12\n",
              "1416 2024-12-20 12:00:00          2    12            4   20     12\n",
              "\n",
              "[1417 rows x 6 columns]"
            ]
          },
          "execution_count": 17,
          "metadata": {},
          "output_type": "execute_result"
        }
      ],
      "source": [
        "df_occupancy"
      ]
    },
    {
      "cell_type": "code",
      "execution_count": 18,
      "metadata": {
        "colab": {
          "base_uri": "https://localhost:8080/"
        },
        "id": "51JPJAZo2i4F",
        "outputId": "27d92241-e4c5-4dd5-f8e3-927d96e68a88"
      },
      "outputs": [
        {
          "name": "stdout",
          "output_type": "stream",
          "text": [
            "Model trained.\n"
          ]
        }
      ],
      "source": [
        "\n",
        "from sklearn.model_selection import train_test_split\n",
        "from sklearn.ensemble import RandomForestRegressor\n",
        "\n",
        "X = df_occupancy[['hour', 'day_of_week', 'day', 'month']]\n",
        "y = df_occupancy['occupancy']\n",
        "\n",
        "X_train, X_test, y_train, y_test = train_test_split(X, y, test_size=0.2, shuffle=False)\n",
        "\n",
        "model = RandomForestRegressor()\n",
        "model.fit(X_train, y_train)\n",
        "\n",
        "\n",
        "print(\"Model trained.\")\n"
      ]
    },
    {
      "cell_type": "code",
      "execution_count": 19,
      "metadata": {
        "colab": {
          "base_uri": "https://localhost:8080/"
        },
        "id": "GoSUq-OE2lmV",
        "outputId": "fcdbd397-792a-455d-9cba-40015cf1f6d9"
      },
      "outputs": [
        {
          "name": "stdout",
          "output_type": "stream",
          "text": [
            "           event_time  hour  day_of_week  day  month  predicted_occupancy\n",
            "0 2025-07-21 00:00:00     0            0   21      7                 8.32\n",
            "1 2025-07-21 01:00:00     1            0   21      7                 7.02\n",
            "2 2025-07-21 02:00:00     2            0   21      7                 6.57\n",
            "3 2025-07-21 03:00:00     3            0   21      7                 8.33\n",
            "4 2025-07-21 04:00:00     4            0   21      7                 7.11\n",
            "Predicted occupancy: 1977 Clean the bathroom!\n"
          ]
        },
        {
          "name": "stderr",
          "output_type": "stream",
          "text": [
            "C:\\Users\\Prince Dwivedi\\AppData\\Local\\Temp\\ipykernel_15036\\3612240345.py:3: FutureWarning: 'H' is deprecated and will be removed in a future version, please use 'h' instead.\n",
            "  future_dates = pd.date_range(start=\"2025-7-21\", end=\"2025-7-22\", freq=\"H\")\n"
          ]
        }
      ],
      "source": [
        "import pandas as pd\n",
        "\n",
        "future_dates = pd.date_range(start=\"2025-7-21\", end=\"2025-7-22\", freq=\"H\")\n",
        "\n",
        "future_df = pd.DataFrame({'event_time': future_dates})\n",
        "future_df['hour'] = future_df['event_time'].dt.hour\n",
        "future_df['day_of_week'] = future_df['event_time'].dt.dayofweek\n",
        "future_df['day'] = future_df['event_time'].dt.day\n",
        "future_df['month'] = future_df['event_time'].dt.month\n",
        "\n",
        "X_future = future_df[['hour', 'day_of_week', 'day', 'month']]\n",
        "future_df['predicted_occupancy'] = model.predict(X_future)\n",
        "\n",
        "print(future_df.head())\n",
        "\n",
        "total_occupancy = future_df['predicted_occupancy'].sum()\n",
        "\n",
        "if total_occupancy > 300:\n",
        "    print(f\"Predicted occupancy: {total_occupancy:.0f} Clean the bathroom!\")\n",
        "else:\n",
        "    print(f\"Predicted occupancy: {total_occupancy:.0f} Cleaning not needed.\")\n"
      ]
    },
    {
      "cell_type": "code",
      "execution_count": 20,
      "metadata": {
        "id": "OT8sM-fN2tl1"
      },
      "outputs": [],
      "source": [
        "import pickle"
      ]
    },
    {
      "cell_type": "code",
      "execution_count": 21,
      "metadata": {
        "id": "VAs9F1YELCAo"
      },
      "outputs": [],
      "source": [
        "pickle.dump(model,open('model.pkl','wb'))"
      ]
    },
    {
      "cell_type": "code",
      "execution_count": null,
      "metadata": {
        "id": "_HDwkXbYL4U2"
      },
      "outputs": [],
      "source": []
    }
  ],
  "metadata": {
    "colab": {
      "provenance": []
    },
    "kernelspec": {
      "display_name": "Python 3",
      "name": "python3"
    },
    "language_info": {
      "codemirror_mode": {
        "name": "ipython",
        "version": 3
      },
      "file_extension": ".py",
      "mimetype": "text/x-python",
      "name": "python",
      "nbconvert_exporter": "python",
      "pygments_lexer": "ipython3",
      "version": "3.13.2"
    }
  },
  "nbformat": 4,
  "nbformat_minor": 0
}
